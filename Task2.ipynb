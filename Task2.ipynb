{
 "cells": [
  {
   "cell_type": "code",
   "execution_count": 3,
   "id": "266d985b-931d-4723-9e82-6e8f7e1657fd",
   "metadata": {},
   "outputs": [],
   "source": [
    "import pandas as pd\n",
    "import numpy as np\n",
    "import seaborn as sns\n",
    "from matplotlib import pyplot as plt"
   ]
  },
  {
   "cell_type": "code",
   "execution_count": 4,
   "id": "aca9b386-ee40-478b-87e9-037be7df7230",
   "metadata": {},
   "outputs": [],
   "source": [
    "df = pd.read_csv(r\"D:\\Mihir\\DEGREE\\Activities\\DJS NOVA\\Combined Task\\TASK.csv\")"
   ]
  },
  {
   "cell_type": "code",
   "execution_count": 13,
   "id": "fa64722d-b557-49c2-ad64-510d171e4001",
   "metadata": {},
   "outputs": [
    {
     "data": {
      "text/html": [
       "<div>\n",
       "<style scoped>\n",
       "    .dataframe tbody tr th:only-of-type {\n",
       "        vertical-align: middle;\n",
       "    }\n",
       "\n",
       "    .dataframe tbody tr th {\n",
       "        vertical-align: top;\n",
       "    }\n",
       "\n",
       "    .dataframe thead th {\n",
       "        text-align: right;\n",
       "    }\n",
       "</style>\n",
       "<table border=\"1\" class=\"dataframe\">\n",
       "  <thead>\n",
       "    <tr style=\"text-align: right;\">\n",
       "      <th></th>\n",
       "      <th>id</th>\n",
       "      <th>date</th>\n",
       "      <th>time</th>\n",
       "      <th>country</th>\n",
       "      <th>nearest_places</th>\n",
       "      <th>hazard_type</th>\n",
       "      <th>landslide_type</th>\n",
       "      <th>trigger</th>\n",
       "      <th>fatalities</th>\n",
       "      <th>injuries</th>\n",
       "      <th>...</th>\n",
       "      <th>population</th>\n",
       "      <th>countrycode</th>\n",
       "      <th>continentcode</th>\n",
       "      <th>key</th>\n",
       "      <th>version</th>\n",
       "      <th>tstamp</th>\n",
       "      <th>changeset_id</th>\n",
       "      <th>latitude</th>\n",
       "      <th>longitude</th>\n",
       "      <th>geolocation</th>\n",
       "    </tr>\n",
       "  </thead>\n",
       "  <tbody>\n",
       "    <tr>\n",
       "      <th>0</th>\n",
       "      <td>1</td>\n",
       "      <td>01/02/2007</td>\n",
       "      <td>NaN</td>\n",
       "      <td>United Kingdom</td>\n",
       "      <td>Whitehaven, Cumbria</td>\n",
       "      <td>landslide</td>\n",
       "      <td>Landslide</td>\n",
       "      <td>Rain</td>\n",
       "      <td>1.0</td>\n",
       "      <td>NaN</td>\n",
       "      <td>...</td>\n",
       "      <td>24803.0</td>\n",
       "      <td>GB</td>\n",
       "      <td>EU</td>\n",
       "      <td>sGaiIKdcW</td>\n",
       "      <td>1.0</td>\n",
       "      <td>Tue Apr 01 2014 00:00:00 GMT+0000 (UTC)</td>\n",
       "      <td>1.0</td>\n",
       "      <td>54.5494</td>\n",
       "      <td>-3.5875</td>\n",
       "      <td>(54.549399999999999, -3.5874999999999999)</td>\n",
       "    </tr>\n",
       "    <tr>\n",
       "      <th>1</th>\n",
       "      <td>2</td>\n",
       "      <td>01/03/2007</td>\n",
       "      <td>NaN</td>\n",
       "      <td>Peru</td>\n",
       "      <td>Alto Mesapata, in the Pasco province</td>\n",
       "      <td>landslide</td>\n",
       "      <td>Complex</td>\n",
       "      <td>Rain</td>\n",
       "      <td>NaN</td>\n",
       "      <td>NaN</td>\n",
       "      <td>...</td>\n",
       "      <td>0.0</td>\n",
       "      <td>PE</td>\n",
       "      <td>SA</td>\n",
       "      <td>S95OsumK4</td>\n",
       "      <td>1.0</td>\n",
       "      <td>Tue Apr 01 2014 00:00:00 GMT+0000 (UTC)</td>\n",
       "      <td>1.0</td>\n",
       "      <td>-10.3838</td>\n",
       "      <td>-75.4267</td>\n",
       "      <td>(-10.383800000000001, -75.426699999999997)</td>\n",
       "    </tr>\n",
       "  </tbody>\n",
       "</table>\n",
       "<p>2 rows × 33 columns</p>\n",
       "</div>"
      ],
      "text/plain": [
       "   id        date time         country                        nearest_places  \\\n",
       "0   1  01/02/2007  NaN  United Kingdom                   Whitehaven, Cumbria   \n",
       "1   2  01/03/2007  NaN            Peru  Alto Mesapata, in the Pasco province   \n",
       "\n",
       "  hazard_type landslide_type trigger  fatalities  injuries  ... population  \\\n",
       "0   landslide      Landslide    Rain         1.0       NaN  ...    24803.0   \n",
       "1   landslide        Complex    Rain         NaN       NaN  ...        0.0   \n",
       "\n",
       "  countrycode continentcode        key version  \\\n",
       "0          GB            EU  sGaiIKdcW     1.0   \n",
       "1          PE            SA  S95OsumK4     1.0   \n",
       "\n",
       "                                    tstamp changeset_id  latitude longitude  \\\n",
       "0  Tue Apr 01 2014 00:00:00 GMT+0000 (UTC)          1.0   54.5494   -3.5875   \n",
       "1  Tue Apr 01 2014 00:00:00 GMT+0000 (UTC)          1.0  -10.3838  -75.4267   \n",
       "\n",
       "                                  geolocation  \n",
       "0   (54.549399999999999, -3.5874999999999999)  \n",
       "1  (-10.383800000000001, -75.426699999999997)  \n",
       "\n",
       "[2 rows x 33 columns]"
      ]
     },
     "execution_count": 13,
     "metadata": {},
     "output_type": "execute_result"
    }
   ],
   "source": [
    "df.head(2)"
   ]
  },
  {
   "cell_type": "code",
   "execution_count": 6,
   "id": "6ab94a6d-98be-40f8-be9b-c7321ca0d094",
   "metadata": {},
   "outputs": [
    {
     "data": {
      "text/plain": [
       "Index(['id', 'date', 'time', 'country', 'nearest_places', 'hazard_type',\n",
       "       'landslide_type', 'trigger', 'storm_name', 'fatalities', 'injuries',\n",
       "       'source_name', 'source_link', 'location_description',\n",
       "       'location_accuracy', 'landslide_size', 'photos_link', 'cat_src',\n",
       "       'cat_id', 'countryname', 'near', 'distance', 'adminname1', 'adminname2',\n",
       "       'population', 'countrycode', 'continentcode', 'key', 'version',\n",
       "       'tstamp', 'changeset_id', 'latitude', 'longitude', 'geolocation'],\n",
       "      dtype='object')"
      ]
     },
     "execution_count": 6,
     "metadata": {},
     "output_type": "execute_result"
    }
   ],
   "source": [
    "df.columns"
   ]
  },
  {
   "cell_type": "code",
   "execution_count": 7,
   "id": "c3c1259c-cd52-484b-85b6-b1272235837c",
   "metadata": {},
   "outputs": [
    {
     "data": {
      "text/plain": [
       "550"
      ]
     },
     "execution_count": 7,
     "metadata": {},
     "output_type": "execute_result"
    }
   ],
   "source": [
    "df['storm_name'].value_counts().sum()"
   ]
  },
  {
   "cell_type": "code",
   "execution_count": 8,
   "id": "1bfb0497-f21d-450b-841f-dee679ffcfec",
   "metadata": {},
   "outputs": [
    {
     "data": {
      "text/plain": [
       "(9564, 34)"
      ]
     },
     "execution_count": 8,
     "metadata": {},
     "output_type": "execute_result"
    }
   ],
   "source": [
    "df.shape"
   ]
  },
  {
   "cell_type": "code",
   "execution_count": 19,
   "id": "6ba07b23-4955-4f63-9f08-26deac4baf14",
   "metadata": {},
   "outputs": [
    {
     "ename": "KeyError",
     "evalue": "\"['storm_name'] not found in axis\"",
     "output_type": "error",
     "traceback": [
      "\u001b[1;31m---------------------------------------------------------------------------\u001b[0m",
      "\u001b[1;31mKeyError\u001b[0m                                  Traceback (most recent call last)",
      "Cell \u001b[1;32mIn[19], line 1\u001b[0m\n\u001b[1;32m----> 1\u001b[0m \u001b[43mdf\u001b[49m\u001b[38;5;241;43m.\u001b[39;49m\u001b[43mdrop\u001b[49m\u001b[43m(\u001b[49m\u001b[43mcolumns\u001b[49m\u001b[43m \u001b[49m\u001b[38;5;241;43m=\u001b[39;49m\u001b[43m \u001b[49m\u001b[43m[\u001b[49m\u001b[38;5;124;43m'\u001b[39;49m\u001b[38;5;124;43mstorm_name\u001b[39;49m\u001b[38;5;124;43m'\u001b[39;49m\u001b[43m,\u001b[49m\u001b[43m \u001b[49m\u001b[38;5;124;43m'\u001b[39;49m\u001b[38;5;124;43mhazard_type\u001b[39;49m\u001b[38;5;124;43m'\u001b[39;49m\u001b[43m]\u001b[49m\u001b[43m,\u001b[49m\u001b[43minplace\u001b[49m\u001b[38;5;241;43m=\u001b[39;49m\u001b[38;5;28;43;01mTrue\u001b[39;49;00m\u001b[43m)\u001b[49m\n",
      "File \u001b[1;32m~\\anaconda3\\Lib\\site-packages\\pandas\\core\\frame.py:5581\u001b[0m, in \u001b[0;36mDataFrame.drop\u001b[1;34m(self, labels, axis, index, columns, level, inplace, errors)\u001b[0m\n\u001b[0;32m   5433\u001b[0m \u001b[38;5;28;01mdef\u001b[39;00m \u001b[38;5;21mdrop\u001b[39m(\n\u001b[0;32m   5434\u001b[0m     \u001b[38;5;28mself\u001b[39m,\n\u001b[0;32m   5435\u001b[0m     labels: IndexLabel \u001b[38;5;241m|\u001b[39m \u001b[38;5;28;01mNone\u001b[39;00m \u001b[38;5;241m=\u001b[39m \u001b[38;5;28;01mNone\u001b[39;00m,\n\u001b[1;32m   (...)\u001b[0m\n\u001b[0;32m   5442\u001b[0m     errors: IgnoreRaise \u001b[38;5;241m=\u001b[39m \u001b[38;5;124m\"\u001b[39m\u001b[38;5;124mraise\u001b[39m\u001b[38;5;124m\"\u001b[39m,\n\u001b[0;32m   5443\u001b[0m ) \u001b[38;5;241m-\u001b[39m\u001b[38;5;241m>\u001b[39m DataFrame \u001b[38;5;241m|\u001b[39m \u001b[38;5;28;01mNone\u001b[39;00m:\n\u001b[0;32m   5444\u001b[0m \u001b[38;5;250m    \u001b[39m\u001b[38;5;124;03m\"\"\"\u001b[39;00m\n\u001b[0;32m   5445\u001b[0m \u001b[38;5;124;03m    Drop specified labels from rows or columns.\u001b[39;00m\n\u001b[0;32m   5446\u001b[0m \n\u001b[1;32m   (...)\u001b[0m\n\u001b[0;32m   5579\u001b[0m \u001b[38;5;124;03m            weight  1.0     0.8\u001b[39;00m\n\u001b[0;32m   5580\u001b[0m \u001b[38;5;124;03m    \"\"\"\u001b[39;00m\n\u001b[1;32m-> 5581\u001b[0m     \u001b[38;5;28;01mreturn\u001b[39;00m \u001b[38;5;28;43msuper\u001b[39;49m\u001b[43m(\u001b[49m\u001b[43m)\u001b[49m\u001b[38;5;241;43m.\u001b[39;49m\u001b[43mdrop\u001b[49m\u001b[43m(\u001b[49m\n\u001b[0;32m   5582\u001b[0m \u001b[43m        \u001b[49m\u001b[43mlabels\u001b[49m\u001b[38;5;241;43m=\u001b[39;49m\u001b[43mlabels\u001b[49m\u001b[43m,\u001b[49m\n\u001b[0;32m   5583\u001b[0m \u001b[43m        \u001b[49m\u001b[43maxis\u001b[49m\u001b[38;5;241;43m=\u001b[39;49m\u001b[43maxis\u001b[49m\u001b[43m,\u001b[49m\n\u001b[0;32m   5584\u001b[0m \u001b[43m        \u001b[49m\u001b[43mindex\u001b[49m\u001b[38;5;241;43m=\u001b[39;49m\u001b[43mindex\u001b[49m\u001b[43m,\u001b[49m\n\u001b[0;32m   5585\u001b[0m \u001b[43m        \u001b[49m\u001b[43mcolumns\u001b[49m\u001b[38;5;241;43m=\u001b[39;49m\u001b[43mcolumns\u001b[49m\u001b[43m,\u001b[49m\n\u001b[0;32m   5586\u001b[0m \u001b[43m        \u001b[49m\u001b[43mlevel\u001b[49m\u001b[38;5;241;43m=\u001b[39;49m\u001b[43mlevel\u001b[49m\u001b[43m,\u001b[49m\n\u001b[0;32m   5587\u001b[0m \u001b[43m        \u001b[49m\u001b[43minplace\u001b[49m\u001b[38;5;241;43m=\u001b[39;49m\u001b[43minplace\u001b[49m\u001b[43m,\u001b[49m\n\u001b[0;32m   5588\u001b[0m \u001b[43m        \u001b[49m\u001b[43merrors\u001b[49m\u001b[38;5;241;43m=\u001b[39;49m\u001b[43merrors\u001b[49m\u001b[43m,\u001b[49m\n\u001b[0;32m   5589\u001b[0m \u001b[43m    \u001b[49m\u001b[43m)\u001b[49m\n",
      "File \u001b[1;32m~\\anaconda3\\Lib\\site-packages\\pandas\\core\\generic.py:4788\u001b[0m, in \u001b[0;36mNDFrame.drop\u001b[1;34m(self, labels, axis, index, columns, level, inplace, errors)\u001b[0m\n\u001b[0;32m   4786\u001b[0m \u001b[38;5;28;01mfor\u001b[39;00m axis, labels \u001b[38;5;129;01min\u001b[39;00m axes\u001b[38;5;241m.\u001b[39mitems():\n\u001b[0;32m   4787\u001b[0m     \u001b[38;5;28;01mif\u001b[39;00m labels \u001b[38;5;129;01mis\u001b[39;00m \u001b[38;5;129;01mnot\u001b[39;00m \u001b[38;5;28;01mNone\u001b[39;00m:\n\u001b[1;32m-> 4788\u001b[0m         obj \u001b[38;5;241m=\u001b[39m \u001b[43mobj\u001b[49m\u001b[38;5;241;43m.\u001b[39;49m\u001b[43m_drop_axis\u001b[49m\u001b[43m(\u001b[49m\u001b[43mlabels\u001b[49m\u001b[43m,\u001b[49m\u001b[43m \u001b[49m\u001b[43maxis\u001b[49m\u001b[43m,\u001b[49m\u001b[43m \u001b[49m\u001b[43mlevel\u001b[49m\u001b[38;5;241;43m=\u001b[39;49m\u001b[43mlevel\u001b[49m\u001b[43m,\u001b[49m\u001b[43m \u001b[49m\u001b[43merrors\u001b[49m\u001b[38;5;241;43m=\u001b[39;49m\u001b[43merrors\u001b[49m\u001b[43m)\u001b[49m\n\u001b[0;32m   4790\u001b[0m \u001b[38;5;28;01mif\u001b[39;00m inplace:\n\u001b[0;32m   4791\u001b[0m     \u001b[38;5;28mself\u001b[39m\u001b[38;5;241m.\u001b[39m_update_inplace(obj)\n",
      "File \u001b[1;32m~\\anaconda3\\Lib\\site-packages\\pandas\\core\\generic.py:4830\u001b[0m, in \u001b[0;36mNDFrame._drop_axis\u001b[1;34m(self, labels, axis, level, errors, only_slice)\u001b[0m\n\u001b[0;32m   4828\u001b[0m         new_axis \u001b[38;5;241m=\u001b[39m axis\u001b[38;5;241m.\u001b[39mdrop(labels, level\u001b[38;5;241m=\u001b[39mlevel, errors\u001b[38;5;241m=\u001b[39merrors)\n\u001b[0;32m   4829\u001b[0m     \u001b[38;5;28;01melse\u001b[39;00m:\n\u001b[1;32m-> 4830\u001b[0m         new_axis \u001b[38;5;241m=\u001b[39m \u001b[43maxis\u001b[49m\u001b[38;5;241;43m.\u001b[39;49m\u001b[43mdrop\u001b[49m\u001b[43m(\u001b[49m\u001b[43mlabels\u001b[49m\u001b[43m,\u001b[49m\u001b[43m \u001b[49m\u001b[43merrors\u001b[49m\u001b[38;5;241;43m=\u001b[39;49m\u001b[43merrors\u001b[49m\u001b[43m)\u001b[49m\n\u001b[0;32m   4831\u001b[0m     indexer \u001b[38;5;241m=\u001b[39m axis\u001b[38;5;241m.\u001b[39mget_indexer(new_axis)\n\u001b[0;32m   4833\u001b[0m \u001b[38;5;66;03m# Case for non-unique axis\u001b[39;00m\n\u001b[0;32m   4834\u001b[0m \u001b[38;5;28;01melse\u001b[39;00m:\n",
      "File \u001b[1;32m~\\anaconda3\\Lib\\site-packages\\pandas\\core\\indexes\\base.py:7070\u001b[0m, in \u001b[0;36mIndex.drop\u001b[1;34m(self, labels, errors)\u001b[0m\n\u001b[0;32m   7068\u001b[0m \u001b[38;5;28;01mif\u001b[39;00m mask\u001b[38;5;241m.\u001b[39many():\n\u001b[0;32m   7069\u001b[0m     \u001b[38;5;28;01mif\u001b[39;00m errors \u001b[38;5;241m!=\u001b[39m \u001b[38;5;124m\"\u001b[39m\u001b[38;5;124mignore\u001b[39m\u001b[38;5;124m\"\u001b[39m:\n\u001b[1;32m-> 7070\u001b[0m         \u001b[38;5;28;01mraise\u001b[39;00m \u001b[38;5;167;01mKeyError\u001b[39;00m(\u001b[38;5;124mf\u001b[39m\u001b[38;5;124m\"\u001b[39m\u001b[38;5;132;01m{\u001b[39;00mlabels[mask]\u001b[38;5;241m.\u001b[39mtolist()\u001b[38;5;132;01m}\u001b[39;00m\u001b[38;5;124m not found in axis\u001b[39m\u001b[38;5;124m\"\u001b[39m)\n\u001b[0;32m   7071\u001b[0m     indexer \u001b[38;5;241m=\u001b[39m indexer[\u001b[38;5;241m~\u001b[39mmask]\n\u001b[0;32m   7072\u001b[0m \u001b[38;5;28;01mreturn\u001b[39;00m \u001b[38;5;28mself\u001b[39m\u001b[38;5;241m.\u001b[39mdelete(indexer)\n",
      "\u001b[1;31mKeyError\u001b[0m: \"['storm_name'] not found in axis\""
     ]
    }
   ],
   "source": [
    "df.drop(columns = ['storm_name'],inplace=True)"
   ]
  },
  {
   "cell_type": "code",
   "execution_count": 11,
   "id": "9fa09164-35ac-4ee9-a17a-d61b4d6e7483",
   "metadata": {},
   "outputs": [
    {
     "data": {
      "text/plain": [
       "Index(['id', 'date', 'time', 'country', 'nearest_places', 'hazard_type',\n",
       "       'landslide_type', 'trigger', 'fatalities', 'injuries', 'source_name',\n",
       "       'source_link', 'location_description', 'location_accuracy',\n",
       "       'landslide_size', 'photos_link', 'cat_src', 'cat_id', 'countryname',\n",
       "       'near', 'distance', 'adminname1', 'adminname2', 'population',\n",
       "       'countrycode', 'continentcode', 'key', 'version', 'tstamp',\n",
       "       'changeset_id', 'latitude', 'longitude', 'geolocation'],\n",
       "      dtype='object')"
      ]
     },
     "execution_count": 11,
     "metadata": {},
     "output_type": "execute_result"
    }
   ],
   "source": [
    "df.columns"
   ]
  },
  {
   "cell_type": "code",
   "execution_count": 16,
   "id": "22d8f867-9f39-4856-94ff-c07be734c8ab",
   "metadata": {},
   "outputs": [],
   "source": [
    "df['latitude']=df['latitude'].round(2)"
   ]
  },
  {
   "cell_type": "code",
   "execution_count": 17,
   "id": "db977abe-112d-49e8-b40d-128927f53736",
   "metadata": {},
   "outputs": [],
   "source": [
    "df['longitude']=df['longitude'].round(2)"
   ]
  },
  {
   "cell_type": "code",
   "execution_count": 18,
   "id": "d81544f0-92a3-4775-a5f5-4f7ca2ab4d52",
   "metadata": {},
   "outputs": [
    {
     "data": {
      "text/html": [
       "<div>\n",
       "<style scoped>\n",
       "    .dataframe tbody tr th:only-of-type {\n",
       "        vertical-align: middle;\n",
       "    }\n",
       "\n",
       "    .dataframe tbody tr th {\n",
       "        vertical-align: top;\n",
       "    }\n",
       "\n",
       "    .dataframe thead th {\n",
       "        text-align: right;\n",
       "    }\n",
       "</style>\n",
       "<table border=\"1\" class=\"dataframe\">\n",
       "  <thead>\n",
       "    <tr style=\"text-align: right;\">\n",
       "      <th></th>\n",
       "      <th>id</th>\n",
       "      <th>date</th>\n",
       "      <th>time</th>\n",
       "      <th>country</th>\n",
       "      <th>nearest_places</th>\n",
       "      <th>hazard_type</th>\n",
       "      <th>landslide_type</th>\n",
       "      <th>trigger</th>\n",
       "      <th>fatalities</th>\n",
       "      <th>injuries</th>\n",
       "      <th>...</th>\n",
       "      <th>population</th>\n",
       "      <th>countrycode</th>\n",
       "      <th>continentcode</th>\n",
       "      <th>key</th>\n",
       "      <th>version</th>\n",
       "      <th>tstamp</th>\n",
       "      <th>changeset_id</th>\n",
       "      <th>latitude</th>\n",
       "      <th>longitude</th>\n",
       "      <th>geolocation</th>\n",
       "    </tr>\n",
       "  </thead>\n",
       "  <tbody>\n",
       "    <tr>\n",
       "      <th>0</th>\n",
       "      <td>1</td>\n",
       "      <td>01/02/2007</td>\n",
       "      <td>NaN</td>\n",
       "      <td>United Kingdom</td>\n",
       "      <td>Whitehaven, Cumbria</td>\n",
       "      <td>landslide</td>\n",
       "      <td>Landslide</td>\n",
       "      <td>Rain</td>\n",
       "      <td>1.0</td>\n",
       "      <td>NaN</td>\n",
       "      <td>...</td>\n",
       "      <td>24803.0</td>\n",
       "      <td>GB</td>\n",
       "      <td>EU</td>\n",
       "      <td>sGaiIKdcW</td>\n",
       "      <td>1.0</td>\n",
       "      <td>Tue Apr 01 2014 00:00:00 GMT+0000 (UTC)</td>\n",
       "      <td>1.0</td>\n",
       "      <td>54.55</td>\n",
       "      <td>-3.59</td>\n",
       "      <td>(54.549399999999999, -3.5874999999999999)</td>\n",
       "    </tr>\n",
       "    <tr>\n",
       "      <th>1</th>\n",
       "      <td>2</td>\n",
       "      <td>01/03/2007</td>\n",
       "      <td>NaN</td>\n",
       "      <td>Peru</td>\n",
       "      <td>Alto Mesapata, in the Pasco province</td>\n",
       "      <td>landslide</td>\n",
       "      <td>Complex</td>\n",
       "      <td>Rain</td>\n",
       "      <td>NaN</td>\n",
       "      <td>NaN</td>\n",
       "      <td>...</td>\n",
       "      <td>0.0</td>\n",
       "      <td>PE</td>\n",
       "      <td>SA</td>\n",
       "      <td>S95OsumK4</td>\n",
       "      <td>1.0</td>\n",
       "      <td>Tue Apr 01 2014 00:00:00 GMT+0000 (UTC)</td>\n",
       "      <td>1.0</td>\n",
       "      <td>-10.38</td>\n",
       "      <td>-75.43</td>\n",
       "      <td>(-10.383800000000001, -75.426699999999997)</td>\n",
       "    </tr>\n",
       "  </tbody>\n",
       "</table>\n",
       "<p>2 rows × 33 columns</p>\n",
       "</div>"
      ],
      "text/plain": [
       "   id        date time         country                        nearest_places  \\\n",
       "0   1  01/02/2007  NaN  United Kingdom                   Whitehaven, Cumbria   \n",
       "1   2  01/03/2007  NaN            Peru  Alto Mesapata, in the Pasco province   \n",
       "\n",
       "  hazard_type landslide_type trigger  fatalities  injuries  ... population  \\\n",
       "0   landslide      Landslide    Rain         1.0       NaN  ...    24803.0   \n",
       "1   landslide        Complex    Rain         NaN       NaN  ...        0.0   \n",
       "\n",
       "  countrycode continentcode        key version  \\\n",
       "0          GB            EU  sGaiIKdcW     1.0   \n",
       "1          PE            SA  S95OsumK4     1.0   \n",
       "\n",
       "                                    tstamp changeset_id  latitude longitude  \\\n",
       "0  Tue Apr 01 2014 00:00:00 GMT+0000 (UTC)          1.0     54.55     -3.59   \n",
       "1  Tue Apr 01 2014 00:00:00 GMT+0000 (UTC)          1.0    -10.38    -75.43   \n",
       "\n",
       "                                  geolocation  \n",
       "0   (54.549399999999999, -3.5874999999999999)  \n",
       "1  (-10.383800000000001, -75.426699999999997)  \n",
       "\n",
       "[2 rows x 33 columns]"
      ]
     },
     "execution_count": 18,
     "metadata": {},
     "output_type": "execute_result"
    }
   ],
   "source": [
    "df.head(2)"
   ]
  },
  {
   "cell_type": "code",
   "execution_count": 20,
   "id": "a0e56c5a-03d0-4a6c-b5be-ba340287f0e6",
   "metadata": {},
   "outputs": [],
   "source": [
    "df.drop(columns = ['hazard_type'],inplace=True)"
   ]
  },
  {
   "cell_type": "code",
   "execution_count": 23,
   "id": "c92e9b1b-4acc-42bd-8801-43736b1610ba",
   "metadata": {},
   "outputs": [
    {
     "data": {
      "text/plain": [
       "location_description\n",
       "Above_road                  2188\n",
       "Unknown                      660\n",
       "Natural_slope                271\n",
       "Urban_area                   175\n",
       "unknown                      150\n",
       "Mine_construction            134\n",
       "Below_road                   132\n",
       "Above_river                   98\n",
       "above road                    79\n",
       "Deforested_slope              50\n",
       "Other                         47\n",
       "Bluff                         44\n",
       "Retaining_wall                37\n",
       "Burned_area                   27\n",
       "Above_Railroad                 9\n",
       "above_road                     2\n",
       "natural slope                  1\n",
       "natural_slope                  1\n",
       "Other-_Construction_Zone       1\n",
       "Construction_zone              1\n",
       "Drought                        1\n",
       "Above_railraod                 1\n",
       "Name: count, dtype: int64"
      ]
     },
     "execution_count": 23,
     "metadata": {},
     "output_type": "execute_result"
    }
   ],
   "source": [
    "df['location_description'].value_counts()"
   ]
  },
  {
   "cell_type": "code",
   "execution_count": null,
   "id": "b97eed27-b35a-44cc-81c7-816a79b13cf9",
   "metadata": {},
   "outputs": [],
   "source": []
  }
 ],
 "metadata": {
  "kernelspec": {
   "display_name": "Python 3 (ipykernel)",
   "language": "python",
   "name": "python3"
  },
  "language_info": {
   "codemirror_mode": {
    "name": "ipython",
    "version": 3
   },
   "file_extension": ".py",
   "mimetype": "text/x-python",
   "name": "python",
   "nbconvert_exporter": "python",
   "pygments_lexer": "ipython3",
   "version": "3.12.4"
  }
 },
 "nbformat": 4,
 "nbformat_minor": 5
}
