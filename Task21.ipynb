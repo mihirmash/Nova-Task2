{
 "cells": [
  {
   "cell_type": "code",
   "execution_count": 3,
   "id": "266d985b-931d-4723-9e82-6e8f7e1657fd",
   "metadata": {},
   "outputs": [],
   "source": [
    "import pandas as pd\n",
    "import numpy as np\n",
    "import seaborn as sns\n",
    "from matplotlib import pyplot as plt"
   ]
  },
  {
   "cell_type": "code",
   "execution_count": 4,
   "id": "aca9b386-ee40-478b-87e9-037be7df7230",
   "metadata": {},
   "outputs": [],
   "source": [
    "df = pd.read_csv(r\"D:\\Mihir\\DEGREE\\Activities\\DJS NOVA\\Combined Task\\TASK.csv\")"
   ]
  },
  {
   "cell_type": "code",
   "execution_count": 13,
   "id": "fa64722d-b557-49c2-ad64-510d171e4001",
   "metadata": {},
   "outputs": [
    {
     "data": {
      "text/html": [
       "<div>\n",
       "<style scoped>\n",
       "    .dataframe tbody tr th:only-of-type {\n",
       "        vertical-align: middle;\n",
       "    }\n",
       "\n",
       "    .dataframe tbody tr th {\n",
       "        vertical-align: top;\n",
       "    }\n",
       "\n",
       "    .dataframe thead th {\n",
       "        text-align: right;\n",
       "    }\n",
       "</style>\n",
       "<table border=\"1\" class=\"dataframe\">\n",
       "  <thead>\n",
       "    <tr style=\"text-align: right;\">\n",
       "      <th></th>\n",
       "      <th>id</th>\n",
       "      <th>date</th>\n",
       "      <th>time</th>\n",
       "      <th>country</th>\n",
       "      <th>nearest_places</th>\n",
       "      <th>hazard_type</th>\n",
       "      <th>landslide_type</th>\n",
       "      <th>trigger</th>\n",
       "      <th>fatalities</th>\n",
       "      <th>injuries</th>\n",
       "      <th>...</th>\n",
       "      <th>population</th>\n",
       "      <th>countrycode</th>\n",
       "      <th>continentcode</th>\n",
       "      <th>key</th>\n",
       "      <th>version</th>\n",
       "      <th>tstamp</th>\n",
       "      <th>changeset_id</th>\n",
       "      <th>latitude</th>\n",
       "      <th>longitude</th>\n",
       "      <th>geolocation</th>\n",
       "    </tr>\n",
       "  </thead>\n",
       "  <tbody>\n",
       "    <tr>\n",
       "      <th>0</th>\n",
       "      <td>1</td>\n",
       "      <td>01/02/2007</td>\n",
       "      <td>NaN</td>\n",
       "      <td>United Kingdom</td>\n",
       "      <td>Whitehaven, Cumbria</td>\n",
       "      <td>landslide</td>\n",
       "      <td>Landslide</td>\n",
       "      <td>Rain</td>\n",
       "      <td>1.0</td>\n",
       "      <td>NaN</td>\n",
       "      <td>...</td>\n",
       "      <td>24803.0</td>\n",
       "      <td>GB</td>\n",
       "      <td>EU</td>\n",
       "      <td>sGaiIKdcW</td>\n",
       "      <td>1.0</td>\n",
       "      <td>Tue Apr 01 2014 00:00:00 GMT+0000 (UTC)</td>\n",
       "      <td>1.0</td>\n",
       "      <td>54.5494</td>\n",
       "      <td>-3.5875</td>\n",
       "      <td>(54.549399999999999, -3.5874999999999999)</td>\n",
       "    </tr>\n",
       "    <tr>\n",
       "      <th>1</th>\n",
       "      <td>2</td>\n",
       "      <td>01/03/2007</td>\n",
       "      <td>NaN</td>\n",
       "      <td>Peru</td>\n",
       "      <td>Alto Mesapata, in the Pasco province</td>\n",
       "      <td>landslide</td>\n",
       "      <td>Complex</td>\n",
       "      <td>Rain</td>\n",
       "      <td>NaN</td>\n",
       "      <td>NaN</td>\n",
       "      <td>...</td>\n",
       "      <td>0.0</td>\n",
       "      <td>PE</td>\n",
       "      <td>SA</td>\n",
       "      <td>S95OsumK4</td>\n",
       "      <td>1.0</td>\n",
       "      <td>Tue Apr 01 2014 00:00:00 GMT+0000 (UTC)</td>\n",
       "      <td>1.0</td>\n",
       "      <td>-10.3838</td>\n",
       "      <td>-75.4267</td>\n",
       "      <td>(-10.383800000000001, -75.426699999999997)</td>\n",
       "    </tr>\n",
       "  </tbody>\n",
       "</table>\n",
       "<p>2 rows × 33 columns</p>\n",
       "</div>"
      ],
      "text/plain": [
       "   id        date time         country                        nearest_places  \\\n",
       "0   1  01/02/2007  NaN  United Kingdom                   Whitehaven, Cumbria   \n",
       "1   2  01/03/2007  NaN            Peru  Alto Mesapata, in the Pasco province   \n",
       "\n",
       "  hazard_type landslide_type trigger  fatalities  injuries  ... population  \\\n",
       "0   landslide      Landslide    Rain         1.0       NaN  ...    24803.0   \n",
       "1   landslide        Complex    Rain         NaN       NaN  ...        0.0   \n",
       "\n",
       "  countrycode continentcode        key version  \\\n",
       "0          GB            EU  sGaiIKdcW     1.0   \n",
       "1          PE            SA  S95OsumK4     1.0   \n",
       "\n",
       "                                    tstamp changeset_id  latitude longitude  \\\n",
       "0  Tue Apr 01 2014 00:00:00 GMT+0000 (UTC)          1.0   54.5494   -3.5875   \n",
       "1  Tue Apr 01 2014 00:00:00 GMT+0000 (UTC)          1.0  -10.3838  -75.4267   \n",
       "\n",
       "                                  geolocation  \n",
       "0   (54.549399999999999, -3.5874999999999999)  \n",
       "1  (-10.383800000000001, -75.426699999999997)  \n",
       "\n",
       "[2 rows x 33 columns]"
      ]
     },
     "execution_count": 13,
     "metadata": {},
     "output_type": "execute_result"
    }
   ],
   "source": [
    "df.head(2)"
   ]
  },
  {
   "cell_type": "code",
   "execution_count": 6,
   "id": "6ab94a6d-98be-40f8-be9b-c7321ca0d094",
   "metadata": {},
   "outputs": [
    {
     "data": {
      "text/plain": [
       "Index(['id', 'date', 'time', 'country', 'nearest_places', 'hazard_type',\n",
       "       'landslide_type', 'trigger', 'storm_name', 'fatalities', 'injuries',\n",
       "       'source_name', 'source_link', 'location_description',\n",
       "       'location_accuracy', 'landslide_size', 'photos_link', 'cat_src',\n",
       "       'cat_id', 'countryname', 'near', 'distance', 'adminname1', 'adminname2',\n",
       "       'population', 'countrycode', 'continentcode', 'key', 'version',\n",
       "       'tstamp', 'changeset_id', 'latitude', 'longitude', 'geolocation'],\n",
       "      dtype='object')"
      ]
     },
     "execution_count": 6,
     "metadata": {},
     "output_type": "execute_result"
    }
   ],
   "source": [
    "df.columns"
   ]
  },
  {
   "cell_type": "code",
   "execution_count": 7,
   "id": "c3c1259c-cd52-484b-85b6-b1272235837c",
   "metadata": {},
   "outputs": [
    {
     "data": {
      "text/plain": [
       "550"
      ]
     },
     "execution_count": 7,
     "metadata": {},
     "output_type": "execute_result"
    }
   ],
   "source": [
    "df['storm_name'].value_counts().sum()"
   ]
  },
  {
   "cell_type": "code",
   "execution_count": 8,
   "id": "1bfb0497-f21d-450b-841f-dee679ffcfec",
   "metadata": {},
   "outputs": [
    {
     "data": {
      "text/plain": [
       "(9564, 34)"
      ]
     },
     "execution_count": 8,
     "metadata": {},
     "output_type": "execute_result"
    }
   ],
   "source": [
    "df.shape"
   ]
  },
  {
   "cell_type": "code",
   "execution_count": null,
   "id": "6ba07b23-4955-4f63-9f08-26deac4baf14",
   "metadata": {},
   "outputs": [],
   "source": [
    "df.drop(columns = ['storm_name'],inplace=True)"
   ]
  },
  {
   "cell_type": "code",
   "execution_count": 11,
   "id": "9fa09164-35ac-4ee9-a17a-d61b4d6e7483",
   "metadata": {},
   "outputs": [
    {
     "data": {
      "text/plain": [
       "Index(['id', 'date', 'time', 'country', 'nearest_places', 'hazard_type',\n",
       "       'landslide_type', 'trigger', 'fatalities', 'injuries', 'source_name',\n",
       "       'source_link', 'location_description', 'location_accuracy',\n",
       "       'landslide_size', 'photos_link', 'cat_src', 'cat_id', 'countryname',\n",
       "       'near', 'distance', 'adminname1', 'adminname2', 'population',\n",
       "       'countrycode', 'continentcode', 'key', 'version', 'tstamp',\n",
       "       'changeset_id', 'latitude', 'longitude', 'geolocation'],\n",
       "      dtype='object')"
      ]
     },
     "execution_count": 11,
     "metadata": {},
     "output_type": "execute_result"
    }
   ],
   "source": [
    "df.columns"
   ]
  },
  {
   "cell_type": "code",
   "execution_count": 16,
   "id": "22d8f867-9f39-4856-94ff-c07be734c8ab",
   "metadata": {},
   "outputs": [],
   "source": [
    "df['latitude']=df['latitude'].round(2)"
   ]
  },
  {
   "cell_type": "code",
   "execution_count": 17,
   "id": "db977abe-112d-49e8-b40d-128927f53736",
   "metadata": {},
   "outputs": [],
   "source": [
    "df['longitude']=df['longitude'].round(2)"
   ]
  },
  {
   "cell_type": "code",
   "execution_count": 18,
   "id": "d81544f0-92a3-4775-a5f5-4f7ca2ab4d52",
   "metadata": {},
   "outputs": [
    {
     "data": {
      "text/html": [
       "<div>\n",
       "<style scoped>\n",
       "    .dataframe tbody tr th:only-of-type {\n",
       "        vertical-align: middle;\n",
       "    }\n",
       "\n",
       "    .dataframe tbody tr th {\n",
       "        vertical-align: top;\n",
       "    }\n",
       "\n",
       "    .dataframe thead th {\n",
       "        text-align: right;\n",
       "    }\n",
       "</style>\n",
       "<table border=\"1\" class=\"dataframe\">\n",
       "  <thead>\n",
       "    <tr style=\"text-align: right;\">\n",
       "      <th></th>\n",
       "      <th>id</th>\n",
       "      <th>date</th>\n",
       "      <th>time</th>\n",
       "      <th>country</th>\n",
       "      <th>nearest_places</th>\n",
       "      <th>hazard_type</th>\n",
       "      <th>landslide_type</th>\n",
       "      <th>trigger</th>\n",
       "      <th>fatalities</th>\n",
       "      <th>injuries</th>\n",
       "      <th>...</th>\n",
       "      <th>population</th>\n",
       "      <th>countrycode</th>\n",
       "      <th>continentcode</th>\n",
       "      <th>key</th>\n",
       "      <th>version</th>\n",
       "      <th>tstamp</th>\n",
       "      <th>changeset_id</th>\n",
       "      <th>latitude</th>\n",
       "      <th>longitude</th>\n",
       "      <th>geolocation</th>\n",
       "    </tr>\n",
       "  </thead>\n",
       "  <tbody>\n",
       "    <tr>\n",
       "      <th>0</th>\n",
       "      <td>1</td>\n",
       "      <td>01/02/2007</td>\n",
       "      <td>NaN</td>\n",
       "      <td>United Kingdom</td>\n",
       "      <td>Whitehaven, Cumbria</td>\n",
       "      <td>landslide</td>\n",
       "      <td>Landslide</td>\n",
       "      <td>Rain</td>\n",
       "      <td>1.0</td>\n",
       "      <td>NaN</td>\n",
       "      <td>...</td>\n",
       "      <td>24803.0</td>\n",
       "      <td>GB</td>\n",
       "      <td>EU</td>\n",
       "      <td>sGaiIKdcW</td>\n",
       "      <td>1.0</td>\n",
       "      <td>Tue Apr 01 2014 00:00:00 GMT+0000 (UTC)</td>\n",
       "      <td>1.0</td>\n",
       "      <td>54.55</td>\n",
       "      <td>-3.59</td>\n",
       "      <td>(54.549399999999999, -3.5874999999999999)</td>\n",
       "    </tr>\n",
       "    <tr>\n",
       "      <th>1</th>\n",
       "      <td>2</td>\n",
       "      <td>01/03/2007</td>\n",
       "      <td>NaN</td>\n",
       "      <td>Peru</td>\n",
       "      <td>Alto Mesapata, in the Pasco province</td>\n",
       "      <td>landslide</td>\n",
       "      <td>Complex</td>\n",
       "      <td>Rain</td>\n",
       "      <td>NaN</td>\n",
       "      <td>NaN</td>\n",
       "      <td>...</td>\n",
       "      <td>0.0</td>\n",
       "      <td>PE</td>\n",
       "      <td>SA</td>\n",
       "      <td>S95OsumK4</td>\n",
       "      <td>1.0</td>\n",
       "      <td>Tue Apr 01 2014 00:00:00 GMT+0000 (UTC)</td>\n",
       "      <td>1.0</td>\n",
       "      <td>-10.38</td>\n",
       "      <td>-75.43</td>\n",
       "      <td>(-10.383800000000001, -75.426699999999997)</td>\n",
       "    </tr>\n",
       "  </tbody>\n",
       "</table>\n",
       "<p>2 rows × 33 columns</p>\n",
       "</div>"
      ],
      "text/plain": [
       "   id        date time         country                        nearest_places  \\\n",
       "0   1  01/02/2007  NaN  United Kingdom                   Whitehaven, Cumbria   \n",
       "1   2  01/03/2007  NaN            Peru  Alto Mesapata, in the Pasco province   \n",
       "\n",
       "  hazard_type landslide_type trigger  fatalities  injuries  ... population  \\\n",
       "0   landslide      Landslide    Rain         1.0       NaN  ...    24803.0   \n",
       "1   landslide        Complex    Rain         NaN       NaN  ...        0.0   \n",
       "\n",
       "  countrycode continentcode        key version  \\\n",
       "0          GB            EU  sGaiIKdcW     1.0   \n",
       "1          PE            SA  S95OsumK4     1.0   \n",
       "\n",
       "                                    tstamp changeset_id  latitude longitude  \\\n",
       "0  Tue Apr 01 2014 00:00:00 GMT+0000 (UTC)          1.0     54.55     -3.59   \n",
       "1  Tue Apr 01 2014 00:00:00 GMT+0000 (UTC)          1.0    -10.38    -75.43   \n",
       "\n",
       "                                  geolocation  \n",
       "0   (54.549399999999999, -3.5874999999999999)  \n",
       "1  (-10.383800000000001, -75.426699999999997)  \n",
       "\n",
       "[2 rows x 33 columns]"
      ]
     },
     "execution_count": 18,
     "metadata": {},
     "output_type": "execute_result"
    }
   ],
   "source": [
    "df.head(2)"
   ]
  },
  {
   "cell_type": "code",
   "execution_count": 20,
   "id": "a0e56c5a-03d0-4a6c-b5be-ba340287f0e6",
   "metadata": {},
   "outputs": [],
   "source": [
    "df.drop(columns = ['hazard_type'],inplace=True)"
   ]
  },
  {
   "cell_type": "code",
   "execution_count": 25,
   "id": "b97eed27-b35a-44cc-81c7-816a79b13cf9",
   "metadata": {},
   "outputs": [
    {
     "data": {
      "text/html": [
       "<div>\n",
       "<style scoped>\n",
       "    .dataframe tbody tr th:only-of-type {\n",
       "        vertical-align: middle;\n",
       "    }\n",
       "\n",
       "    .dataframe tbody tr th {\n",
       "        vertical-align: top;\n",
       "    }\n",
       "\n",
       "    .dataframe thead th {\n",
       "        text-align: right;\n",
       "    }\n",
       "</style>\n",
       "<table border=\"1\" class=\"dataframe\">\n",
       "  <thead>\n",
       "    <tr style=\"text-align: right;\">\n",
       "      <th></th>\n",
       "      <th>id</th>\n",
       "      <th>date</th>\n",
       "      <th>time</th>\n",
       "      <th>country</th>\n",
       "      <th>nearest_places</th>\n",
       "      <th>landslide_type</th>\n",
       "      <th>trigger</th>\n",
       "      <th>fatalities</th>\n",
       "      <th>injuries</th>\n",
       "      <th>source_name</th>\n",
       "      <th>...</th>\n",
       "      <th>population</th>\n",
       "      <th>countrycode</th>\n",
       "      <th>continentcode</th>\n",
       "      <th>key</th>\n",
       "      <th>version</th>\n",
       "      <th>tstamp</th>\n",
       "      <th>changeset_id</th>\n",
       "      <th>latitude</th>\n",
       "      <th>longitude</th>\n",
       "      <th>geolocation</th>\n",
       "    </tr>\n",
       "  </thead>\n",
       "  <tbody>\n",
       "    <tr>\n",
       "      <th>0</th>\n",
       "      <td>1</td>\n",
       "      <td>01/02/2007</td>\n",
       "      <td>NaN</td>\n",
       "      <td>United Kingdom</td>\n",
       "      <td>Whitehaven, Cumbria</td>\n",
       "      <td>Landslide</td>\n",
       "      <td>Rain</td>\n",
       "      <td>1.0</td>\n",
       "      <td>NaN</td>\n",
       "      <td>The Times</td>\n",
       "      <td>...</td>\n",
       "      <td>24803.0</td>\n",
       "      <td>GB</td>\n",
       "      <td>EU</td>\n",
       "      <td>sGaiIKdcW</td>\n",
       "      <td>1.0</td>\n",
       "      <td>Tue Apr 01 2014 00:00:00 GMT+0000 (UTC)</td>\n",
       "      <td>1.0</td>\n",
       "      <td>54.55</td>\n",
       "      <td>-3.59</td>\n",
       "      <td>(54.549399999999999, -3.5874999999999999)</td>\n",
       "    </tr>\n",
       "    <tr>\n",
       "      <th>1</th>\n",
       "      <td>2</td>\n",
       "      <td>01/03/2007</td>\n",
       "      <td>NaN</td>\n",
       "      <td>Peru</td>\n",
       "      <td>Alto Mesapata, in the Pasco province</td>\n",
       "      <td>Complex</td>\n",
       "      <td>Rain</td>\n",
       "      <td>NaN</td>\n",
       "      <td>NaN</td>\n",
       "      <td>My Opera</td>\n",
       "      <td>...</td>\n",
       "      <td>0.0</td>\n",
       "      <td>PE</td>\n",
       "      <td>SA</td>\n",
       "      <td>S95OsumK4</td>\n",
       "      <td>1.0</td>\n",
       "      <td>Tue Apr 01 2014 00:00:00 GMT+0000 (UTC)</td>\n",
       "      <td>1.0</td>\n",
       "      <td>-10.38</td>\n",
       "      <td>-75.43</td>\n",
       "      <td>(-10.383800000000001, -75.426699999999997)</td>\n",
       "    </tr>\n",
       "  </tbody>\n",
       "</table>\n",
       "<p>2 rows × 32 columns</p>\n",
       "</div>"
      ],
      "text/plain": [
       "   id        date time         country                        nearest_places  \\\n",
       "0   1  01/02/2007  NaN  United Kingdom                   Whitehaven, Cumbria   \n",
       "1   2  01/03/2007  NaN            Peru  Alto Mesapata, in the Pasco province   \n",
       "\n",
       "  landslide_type trigger  fatalities  injuries source_name  ... population  \\\n",
       "0      Landslide    Rain         1.0       NaN   The Times  ...    24803.0   \n",
       "1        Complex    Rain         NaN       NaN    My Opera  ...        0.0   \n",
       "\n",
       "  countrycode continentcode        key version  \\\n",
       "0          GB            EU  sGaiIKdcW     1.0   \n",
       "1          PE            SA  S95OsumK4     1.0   \n",
       "\n",
       "                                    tstamp  changeset_id latitude longitude  \\\n",
       "0  Tue Apr 01 2014 00:00:00 GMT+0000 (UTC)           1.0    54.55     -3.59   \n",
       "1  Tue Apr 01 2014 00:00:00 GMT+0000 (UTC)           1.0   -10.38    -75.43   \n",
       "\n",
       "                                  geolocation  \n",
       "0   (54.549399999999999, -3.5874999999999999)  \n",
       "1  (-10.383800000000001, -75.426699999999997)  \n",
       "\n",
       "[2 rows x 32 columns]"
      ]
     },
     "execution_count": 25,
     "metadata": {},
     "output_type": "execute_result"
    }
   ],
   "source": [
    "df.head(2)"
   ]
  },
  {
   "cell_type": "code",
   "execution_count": 31,
   "id": "2afe018e-60ce-4c83-8565-901cf6aed825",
   "metadata": {},
   "outputs": [],
   "source": [
    "df.replace({'landslide':'Landslide'},inplace=True)"
   ]
  },
  {
   "cell_type": "code",
   "execution_count": 35,
   "id": "f6458f1b-c8e0-4627-b9e2-70f15d6dfc05",
   "metadata": {},
   "outputs": [
    {
     "data": {
      "text/plain": [
       "landslide_type\n",
       "Landslide              6677\n",
       "Mudslide               1837\n",
       "Rockfall                486\n",
       "Complex                 232\n",
       "Debris_Flow             173\n",
       "Other                    66\n",
       "Riverbank_Collapse       28\n",
       "Unknown                  18\n",
       "Lahar                     7\n",
       "Snow_Avalanche            7\n",
       "Translational_Slide       6\n",
       "Creep                     5\n",
       "Earthflow                 3\n",
       "Rockslide                 1\n",
       "Name: count, dtype: int64"
      ]
     },
     "execution_count": 35,
     "metadata": {},
     "output_type": "execute_result"
    }
   ],
   "source": [
    "df['landslide_type'].value_counts()"
   ]
  },
  {
   "cell_type": "code",
   "execution_count": 34,
   "id": "cf724924-05d5-4336-944a-bedf7d8ed4fb",
   "metadata": {},
   "outputs": [],
   "source": [
    "df.replace({'mudslide':'Mudslide'},inplace=True)"
   ]
  },
  {
   "cell_type": "code",
   "execution_count": 40,
   "id": "8eaed2c1-1365-4b62-ba32-17208a909381",
   "metadata": {},
   "outputs": [
    {
     "data": {
      "text/plain": [
       "trigger\n",
       "Downpour                   4454\n",
       "Rain                       1920\n",
       "Unknown                     813\n",
       "Continuous_Rain             557\n",
       "Tropical_Cyclone            543\n",
       "Monsoon                     124\n",
       "Earthquake                   76\n",
       "Snowfall_snowmelt            75\n",
       "Mining_digging               74\n",
       "Construction                 52\n",
       "Flooding                     49\n",
       "Freeze_thaw                  26\n",
       "No_Apparent_Trigger          20\n",
       "Other                        15\n",
       "Dam_Embankment_Collapse       9\n",
       "Volcano                       1\n",
       "Name: count, dtype: int64"
      ]
     },
     "execution_count": 40,
     "metadata": {},
     "output_type": "execute_result"
    }
   ],
   "source": [
    "df['trigger'].value_counts()"
   ]
  },
  {
   "cell_type": "code",
   "execution_count": 39,
   "id": "c9af0bd4-f5b9-4b30-a743-d1c898fa4afe",
   "metadata": {},
   "outputs": [],
   "source": [
    "df.replace({'monsoon':'Monsoon','No_Apparent_trigger':'No_Apparent_Trigger','unknown':'Unknown','Continuous_rain':'Continuous_Rain'},inplace=True)"
   ]
  },
  {
   "cell_type": "code",
   "execution_count": 47,
   "id": "ebe4c4b1-4205-4cea-8431-5702afc926b4",
   "metadata": {},
   "outputs": [],
   "source": [
    "df.replace({'articles.timesofindia.indiatimes.com':'Times of India' },inplace=True)"
   ]
  },
  {
   "cell_type": "code",
   "execution_count": 51,
   "id": "9d9c9437-e292-4953-8c7a-da01f782d44c",
   "metadata": {},
   "outputs": [],
   "source": [
    "df.replace({'above road':'Above_road','above_road':'Above_road', 'Other-_Construction_Zone':'Construction_zone','natural slope':'natural_slope','natural_slope':'Natural_slope','Above_railraod':'Above_Railroad'},inplace=True)\n"
   ]
  },
  {
   "cell_type": "code",
   "execution_count": 53,
   "id": "eb76d54c-18bb-48a1-88d5-8c75f4062bd8",
   "metadata": {},
   "outputs": [],
   "source": [
    "df.replace({'natural_slope':'Natural_slope' },inplace=True)"
   ]
  },
  {
   "cell_type": "code",
   "execution_count": 57,
   "id": "78fe31f2-616b-4eca-979b-fd6b3cb83136",
   "metadata": {},
   "outputs": [],
   "source": [
    "df['location_accuracy']=df['location_accuracy'].str.replace(\"Known_within_\",\"\")"
   ]
  },
  {
   "cell_type": "code",
   "execution_count": 59,
   "id": "1cff22bd-5ae5-4a35-b8d5-992486c67800",
   "metadata": {},
   "outputs": [],
   "source": [
    "df['location_accuracy']=df['location_accuracy'].str.replace(\"km\",\"\")"
   ]
  },
  {
   "cell_type": "code",
   "execution_count": 61,
   "id": "6418c2c2-8551-4091-912c-51927aa7dba4",
   "metadata": {},
   "outputs": [],
   "source": [
    "df['location_accuracy']=df['location_accuracy'].str.replace(\"_\",\"\")"
   ]
  },
  {
   "cell_type": "code",
   "execution_count": 66,
   "id": "1e18c513-fbdf-4c11-af2c-a0c30bbd243f",
   "metadata": {},
   "outputs": [],
   "source": [
    "df.replace({'Exactlocation':'Exact_Location', },inplace=True)"
   ]
  },
  {
   "cell_type": "code",
   "execution_count": 68,
   "id": "1fc74aa7-1186-40cc-9a38-92e3bed39505",
   "metadata": {},
   "outputs": [],
   "source": [
    "df.replace({'ExactLocation':'Exact_Location', },inplace=True)"
   ]
  },
  {
   "cell_type": "code",
   "execution_count": 70,
   "id": "0844dbb2-0b36-49c5-aafb-eeee1b8a2217",
   "metadata": {},
   "outputs": [],
   "source": [
    "df.rename(columns={'location_accuracy':'location_accuracy(in km)'},inplace=True)"
   ]
  },
  {
   "cell_type": "code",
   "execution_count": 76,
   "id": "1627237d-7c31-4267-a06d-20450c0e074e",
   "metadata": {},
   "outputs": [],
   "source": [
    "df.replace({'medium':'Medium','large':'Large','small':'Small','Very_large':'Very_Large'},inplace=True)"
   ]
  },
  {
   "cell_type": "code",
   "execution_count": 96,
   "id": "6c9dc21d-9a4c-4df7-a7b6-8145ee7eeb0c",
   "metadata": {},
   "outputs": [],
   "source": [
    "df.drop(columns = ['country'],inplace=True)"
   ]
  },
  {
   "cell_type": "code",
   "execution_count": 98,
   "id": "9b3ff265-5554-404a-8f3c-079681e1aacb",
   "metadata": {},
   "outputs": [],
   "source": [
    "df.rename(columns={'countryname':'country'},inplace=True)"
   ]
  },
  {
   "cell_type": "code",
   "execution_count": 99,
   "id": "c92e9b1b-4acc-42bd-8801-43736b1610ba",
   "metadata": {},
   "outputs": [
    {
     "data": {
      "text/plain": [
       "Index(['id', 'date', 'time', 'nearest_places', 'landslide_type', 'trigger',\n",
       "       'fatalities', 'injuries', 'source_name', 'source_link',\n",
       "       'location_description', 'location_accuracy(in km)', 'landslide_size',\n",
       "       'photos_link', 'cat_src', 'cat_id', 'country', 'near', 'distance',\n",
       "       'adminname1', 'adminname2', 'population', 'countrycode',\n",
       "       'continentcode', 'key', 'version', 'tstamp', 'changeset_id', 'latitude',\n",
       "       'longitude', 'geolocation'],\n",
       "      dtype='object')"
      ]
     },
     "execution_count": 99,
     "metadata": {},
     "output_type": "execute_result"
    }
   ],
   "source": [
    "df.columns"
   ]
  },
  {
   "cell_type": "code",
   "execution_count": 108,
   "id": "6f397cab-37bf-454d-bb60-be88ece9cd5c",
   "metadata": {},
   "outputs": [
    {
     "data": {
      "text/plain": [
       "9520"
      ]
     },
     "execution_count": 108,
     "metadata": {},
     "output_type": "execute_result"
    }
   ],
   "source": [
    "df['countrycode'].value_counts().sum()"
   ]
  },
  {
   "cell_type": "code",
   "execution_count": 111,
   "id": "84795aa7-8a3b-4016-aad8-ec4da56e36cf",
   "metadata": {},
   "outputs": [
    {
     "data": {
      "text/plain": [
       "9522"
      ]
     },
     "execution_count": 111,
     "metadata": {},
     "output_type": "execute_result"
    }
   ],
   "source": [
    "df['country'].value_counts().sum()"
   ]
  },
  {
   "cell_type": "code",
   "execution_count": null,
   "id": "3d58d236-5cfa-4a44-b0b9-b8e0403354eb",
   "metadata": {},
   "outputs": [],
   "source": []
  }
 ],
 "metadata": {
  "kernelspec": {
   "display_name": "Python 3 (ipykernel)",
   "language": "python",
   "name": "python3"
  },
  "language_info": {
   "codemirror_mode": {
    "name": "ipython",
    "version": 3
   },
   "file_extension": ".py",
   "mimetype": "text/x-python",
   "name": "python",
   "nbconvert_exporter": "python",
   "pygments_lexer": "ipython3",
   "version": "3.12.4"
  }
 },
 "nbformat": 4,
 "nbformat_minor": 5
}
